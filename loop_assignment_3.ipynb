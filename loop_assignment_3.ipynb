{
 "cells": [
  {
   "cell_type": "code",
   "execution_count": null,
   "id": "0f3c7914-aacd-4b06-bcfc-2bd373964632",
   "metadata": {},
   "outputs": [],
   "source": [
    "                                           #Loop based problems"
   ]
  },
  {
   "cell_type": "code",
   "execution_count": 1,
   "id": "c885dfc5-592b-46ca-8b01-063e7188747f",
   "metadata": {},
   "outputs": [],
   "source": [
    "#1) to print numbers from 1-10 using loop\n",
    "\n"
   ]
  },
  {
   "cell_type": "code",
   "execution_count": 38,
   "id": "11d64e7d-393b-42d5-b4ac-458477e978a3",
   "metadata": {},
   "outputs": [
    {
     "name": "stdout",
     "output_type": "stream",
     "text": [
      "numbers from 1 to 10:\n"
     ]
    }
   ],
   "source": [
    "print(\"numbers from 1 to 10:\")"
   ]
  },
  {
   "cell_type": "code",
   "execution_count": 39,
   "id": "dce4cd2a-5b61-4970-9ae2-7dcb1bad9700",
   "metadata": {},
   "outputs": [
    {
     "name": "stdout",
     "output_type": "stream",
     "text": [
      "1 2 3 4 5 6 7 8 9 10 "
     ]
    }
   ],
   "source": [
    "for n in range (1,11):      # for loop to print numbers 1-10\n",
    "    print(n, end=' ')"
   ]
  },
  {
   "cell_type": "code",
   "execution_count": 40,
   "id": "11ff1345-2c0e-4308-ae7b-dd724d69afad",
   "metadata": {},
   "outputs": [],
   "source": [
    "#2) to print sum of all numbers in a list using for loop\n",
    "\n"
   ]
  },
  {
   "cell_type": "code",
   "execution_count": 41,
   "id": "fdf63aba-3a11-40bc-b0d1-287427f52706",
   "metadata": {},
   "outputs": [],
   "source": [
    "list1=[1,2,3,4,5,6,7,8,9,10]"
   ]
  },
  {
   "cell_type": "code",
   "execution_count": 42,
   "id": "90d78252-1e46-4de8-8a2c-1ab5ffaa144f",
   "metadata": {},
   "outputs": [],
   "source": [
    "total=0\n",
    "for i in range(0, len(list1)):      #iterate each element in list and add it to variable total\n",
    "               total=total+list1[i]\n",
    "               "
   ]
  },
  {
   "cell_type": "code",
   "execution_count": 43,
   "id": "0eef4613-7711-47bd-ab41-6a5ed425a153",
   "metadata": {},
   "outputs": [
    {
     "name": "stdout",
     "output_type": "stream",
     "text": [
      "the sum of all elements in list is: 55\n"
     ]
    }
   ],
   "source": [
    "print(\"the sum of all elements in list is:\",total)"
   ]
  },
  {
   "cell_type": "code",
   "execution_count": 44,
   "id": "56ce7f91-5ec0-4fe2-ab68-fc393650e32b",
   "metadata": {},
   "outputs": [],
   "source": [
    "#3) to print every element in list in reverse using for loop\n",
    "\n"
   ]
  },
  {
   "cell_type": "code",
   "execution_count": 48,
   "id": "b433fecc-22d4-4604-a39f-18e53c57cad0",
   "metadata": {},
   "outputs": [],
   "source": [
    "s=\"simranjeet\""
   ]
  },
  {
   "cell_type": "code",
   "execution_count": 51,
   "id": "8ef08372-67ba-4278-b90f-fa134fa81245",
   "metadata": {},
   "outputs": [],
   "source": [
    "str=\" \"\n",
    "for i in s:\n",
    "    str=i+str\n",
    "    \n"
   ]
  },
  {
   "cell_type": "code",
   "execution_count": 53,
   "id": "5fd8a106-3596-46b9-b2a1-de695daaa16d",
   "metadata": {},
   "outputs": [
    {
     "name": "stdout",
     "output_type": "stream",
     "text": [
      "the reverse of the above string is: teejnarmis \n"
     ]
    }
   ],
   "source": [
    "print(\"the reverse of the above string is:\",str)"
   ]
  },
  {
   "cell_type": "code",
   "execution_count": 54,
   "id": "d8447fcb-4d21-46c5-b2a4-98399abdd308",
   "metadata": {},
   "outputs": [],
   "source": [
    "#4) to find the factorial of a given number using for loop\n",
    "\n"
   ]
  },
  {
   "cell_type": "code",
   "execution_count": 65,
   "id": "5332fecc-c4bb-4dbb-bea1-83195de8795b",
   "metadata": {},
   "outputs": [
    {
     "name": "stdin",
     "output_type": "stream",
     "text": [
      " 5\n"
     ]
    }
   ],
   "source": [
    "n=int(input())"
   ]
  },
  {
   "cell_type": "code",
   "execution_count": 66,
   "id": "e48181a4-4f75-4fff-8f49-e2cbd68db120",
   "metadata": {},
   "outputs": [],
   "source": [
    "fact=1\n",
    "for i in range (1,(n+1)):\n",
    "    fact=fact*i\n",
    "    "
   ]
  },
  {
   "cell_type": "code",
   "execution_count": 68,
   "id": "72a99b6b-453e-46e1-b53a-cac228658a69",
   "metadata": {},
   "outputs": [
    {
     "name": "stdout",
     "output_type": "stream",
     "text": [
      "the factorial of the above number is: 120\n"
     ]
    }
   ],
   "source": [
    "print(\"the factorial of the above number is:\",fact)"
   ]
  },
  {
   "cell_type": "code",
   "execution_count": 69,
   "id": "6ce472a5-4578-4e74-99f8-99872bef0337",
   "metadata": {},
   "outputs": [],
   "source": [
    "#5) to print multiplication of a number using for loop\n",
    "\n"
   ]
  },
  {
   "cell_type": "code",
   "execution_count": 79,
   "id": "3768a347-3628-4977-9a49-c91a632e2929",
   "metadata": {},
   "outputs": [
    {
     "name": "stdin",
     "output_type": "stream",
     "text": [
      " 3\n"
     ]
    }
   ],
   "source": [
    "n=int(input())"
   ]
  },
  {
   "cell_type": "code",
   "execution_count": 81,
   "id": "eafaf938-ba69-434e-8833-a62dcd11ef3f",
   "metadata": {},
   "outputs": [
    {
     "name": "stdout",
     "output_type": "stream",
     "text": [
      "3 * 1 = 3\n",
      "3 * 2 = 6\n",
      "3 * 3 = 9\n",
      "3 * 4 = 12\n",
      "3 * 5 = 15\n",
      "3 * 6 = 18\n",
      "3 * 7 = 21\n",
      "3 * 8 = 24\n",
      "3 * 9 = 27\n",
      "3 * 10 = 30\n"
     ]
    }
   ],
   "source": [
    "for i in range (1,11):    \n",
    "    print(n,'*',i,'=',n*i)   "
   ]
  },
  {
   "cell_type": "code",
   "execution_count": 82,
   "id": "6824f4d2-b8f9-4f70-b1ea-b88cf949b4c3",
   "metadata": {},
   "outputs": [],
   "source": [
    "#6) to count the number of odd and even numbers in a list using loop\n",
    "\n"
   ]
  },
  {
   "cell_type": "code",
   "execution_count": 83,
   "id": "548853cc-6c46-45ea-a34d-3e86f0c61413",
   "metadata": {},
   "outputs": [],
   "source": [
    "list1=[2,3,4,5,6,7,8]"
   ]
  },
  {
   "cell_type": "code",
   "execution_count": 85,
   "id": "6cbff364-591a-4663-9868-929ed1e5d8cd",
   "metadata": {},
   "outputs": [],
   "source": [
    "even=0\n",
    "odd=0\n",
    "for i in range(0,len(list1)):\n",
    "    if(i%2==0):\n",
    "        even+=1\n",
    "    else:\n",
    "        odd+=1\n",
    "       "
   ]
  },
  {
   "cell_type": "code",
   "execution_count": 86,
   "id": "02e85829-eaba-4414-b735-64c394a401b2",
   "metadata": {},
   "outputs": [
    {
     "name": "stdout",
     "output_type": "stream",
     "text": [
      "the number of even numbers are: 4\n"
     ]
    }
   ],
   "source": [
    "print(\"the number of even numbers are:\",even)"
   ]
  },
  {
   "cell_type": "code",
   "execution_count": 87,
   "id": "49c461c0-0d30-41c2-a0a0-28587e24d8ca",
   "metadata": {},
   "outputs": [
    {
     "name": "stdout",
     "output_type": "stream",
     "text": [
      "the number of odd numbers are: 3\n"
     ]
    }
   ],
   "source": [
    " print(\"the number of odd numbers are:\",odd)"
   ]
  },
  {
   "cell_type": "code",
   "execution_count": 88,
   "id": "efeff178-8a52-4226-ae06-c5c9cdc3a8a9",
   "metadata": {},
   "outputs": [],
   "source": [
    "#7) to print squares of a number from 1-5 using for loop\n",
    "\n"
   ]
  },
  {
   "cell_type": "code",
   "execution_count": 105,
   "id": "7e5d7441-5c84-4c3d-abc0-60a0bb5b42d7",
   "metadata": {},
   "outputs": [
    {
     "name": "stdout",
     "output_type": "stream",
     "text": [
      "sqaure 0 0\n",
      "sqaure 1 1\n",
      "sqaure 2 4\n",
      "sqaure 3 9\n",
      "sqaure 4 16\n",
      "sqaure 5 25\n"
     ]
    }
   ],
   "source": [
    "num=6\n",
    "for i in range (0,num):\n",
    "    print(\"sqaure\",i,i**2)\n",
    "    "
   ]
  },
  {
   "cell_type": "code",
   "execution_count": 106,
   "id": "452fb4ec-55c4-4577-83f8-65768554bac4",
   "metadata": {},
   "outputs": [],
   "source": [
    "#8) to find length of string without using len()\n",
    "\n"
   ]
  },
  {
   "cell_type": "code",
   "execution_count": 111,
   "id": "65400881-2215-4838-9242-0bd81150e4f2",
   "metadata": {},
   "outputs": [],
   "source": [
    "s=\"honolulu\""
   ]
  },
  {
   "cell_type": "code",
   "execution_count": 115,
   "id": "56bce11c-8605-4760-b9fe-5e95af1aa52f",
   "metadata": {},
   "outputs": [],
   "source": [
    "length=0\n",
    "for i in s:\n",
    "     length+=1         "
   ]
  },
  {
   "cell_type": "code",
   "execution_count": 116,
   "id": "10aafa96-3812-4d7a-977d-96d801758041",
   "metadata": {},
   "outputs": [
    {
     "name": "stdout",
     "output_type": "stream",
     "text": [
      "the length of the string is: 8\n"
     ]
    }
   ],
   "source": [
    "print(\"the length of the string is:\",length)"
   ]
  },
  {
   "cell_type": "code",
   "execution_count": 1,
   "id": "921ad6a9-9516-4df1-97e5-3fb39adb71a3",
   "metadata": {},
   "outputs": [],
   "source": [
    "#9) to calculate the average of a list using for loop\n",
    "\n"
   ]
  },
  {
   "cell_type": "code",
   "execution_count": 9,
   "id": "8ddba583-be13-4b03-b639-73f19d3f8cb7",
   "metadata": {},
   "outputs": [],
   "source": [
    "list1=[1,2,3,4,5]"
   ]
  },
  {
   "cell_type": "code",
   "execution_count": 11,
   "id": "db9e1b39-f686-48c7-81e7-5b24fbc01610",
   "metadata": {},
   "outputs": [],
   "source": [
    "total=0\n",
    "for i in range (0,(len(list1))):\n",
    "    total= total+list1[i]\n"
   ]
  },
  {
   "cell_type": "code",
   "execution_count": 12,
   "id": "4c244db7-3812-4634-b7a1-83463d075a6a",
   "metadata": {},
   "outputs": [],
   "source": [
    "average=total/len(list1)"
   ]
  },
  {
   "cell_type": "code",
   "execution_count": 14,
   "id": "8a8898bb-d4cb-4dda-923d-39e65e9f29cc",
   "metadata": {},
   "outputs": [
    {
     "name": "stdout",
     "output_type": "stream",
     "text": [
      "the average of the above list is: 3.0\n"
     ]
    }
   ],
   "source": [
    "print(\"the average of the above list is:\",average)"
   ]
  },
  {
   "cell_type": "code",
   "execution_count": 15,
   "id": "d09ea4db-3bdc-4314-9b01-1bc287a3bd10",
   "metadata": {},
   "outputs": [],
   "source": [
    "#10) to print the first n fibonacci numbers using for loop\n",
    "\n"
   ]
  },
  {
   "cell_type": "code",
   "execution_count": 20,
   "id": "ac8ed09a-3498-43f4-9471-d8a83c706fba",
   "metadata": {},
   "outputs": [
    {
     "name": "stdin",
     "output_type": "stream",
     "text": [
      "enter range of number 10\n"
     ]
    }
   ],
   "source": [
    "num= int(input(\"enter range of number:\"))"
   ]
  },
  {
   "cell_type": "code",
   "execution_count": 31,
   "id": "f91a21e7-582d-45ca-9e3a-e65991971617",
   "metadata": {},
   "outputs": [],
   "source": [
    "first=0\n",
    "second=1"
   ]
  },
  {
   "cell_type": "code",
   "execution_count": 32,
   "id": "46130270-4993-4315-85e8-34c9377069af",
   "metadata": {},
   "outputs": [
    {
     "name": "stdout",
     "output_type": "stream",
     "text": [
      "0\n",
      "1\n",
      "1\n",
      "2\n",
      "3\n",
      "5\n",
      "8\n",
      "13\n",
      "21\n",
      "34\n"
     ]
    }
   ],
   "source": [
    "for n in range(0,num):\n",
    "    if (n<=1):\n",
    "        next=n\n",
    "    else:\n",
    "        next=first+second\n",
    "        first=second\n",
    "        second=next\n",
    "    print(next)   "
   ]
  },
  {
   "cell_type": "code",
   "execution_count": 33,
   "id": "5a27ec96-10e5-4b23-b4f4-a6550894294e",
   "metadata": {},
   "outputs": [],
   "source": [
    "#11) to check if a given list contains duplicates using for loop\n",
    "\n"
   ]
  },
  {
   "cell_type": "code",
   "execution_count": 34,
   "id": "d0832fb3-4bf2-4147-aa22-7654530ffe1f",
   "metadata": {},
   "outputs": [],
   "source": [
    "list1=[11,2,5,4,6,6,8]"
   ]
  },
  {
   "cell_type": "code",
   "execution_count": 35,
   "id": "11c54d02-aa4a-4d85-ac1c-ff3982d7aac8",
   "metadata": {},
   "outputs": [],
   "source": [
    "l=[]"
   ]
  },
  {
   "cell_type": "code",
   "execution_count": 36,
   "id": "09dffd49-f61c-429f-807e-07dba30f13a0",
   "metadata": {},
   "outputs": [
    {
     "name": "stdout",
     "output_type": "stream",
     "text": [
      "6 "
     ]
    }
   ],
   "source": [
    "for i in list1:\n",
    "    if i not in l:\n",
    "        l.append(i)\n",
    "    else:\n",
    "        print(i,end=' ')"
   ]
  },
  {
   "cell_type": "code",
   "execution_count": 37,
   "id": "5a3dccc2-3d56-4abd-8f10-1e0af9c401b5",
   "metadata": {},
   "outputs": [],
   "source": [
    "#12) to print prime numbers in a given range using for loop\n",
    "\n"
   ]
  },
  {
   "cell_type": "code",
   "execution_count": 48,
   "id": "8d566ebf-8781-4027-aa17-8c2707d849ae",
   "metadata": {},
   "outputs": [],
   "source": [
    "num=9"
   ]
  },
  {
   "cell_type": "code",
   "execution_count": 49,
   "id": "94406895-3c42-43f4-b373-8ad0a495de3b",
   "metadata": {},
   "outputs": [
    {
     "name": "stdout",
     "output_type": "stream",
     "text": [
      "the number is not prime\n"
     ]
    }
   ],
   "source": [
    "if (num>1):\n",
    "    for i in range(2,int(num/2)+1):\n",
    "        if(num%i)==0:\n",
    "            print(\"the number is not prime\")\n",
    "            break\n",
    "    else:\n",
    "        print(\"the number is prime\")\n",
    "else:\n",
    "    print(\"the number is not prime\")"
   ]
  },
  {
   "cell_type": "code",
   "execution_count": 51,
   "id": "5eacda37-6b55-4fc9-90cf-f13b4319f7d4",
   "metadata": {},
   "outputs": [],
   "source": [
    "#13) to develop a program that counts the number of vowels in a string using for loop\n",
    "\n"
   ]
  },
  {
   "cell_type": "code",
   "execution_count": 82,
   "id": "ae80ccf9-ea8f-4ba4-8661-c5290f5d1293",
   "metadata": {},
   "outputs": [],
   "source": [
    "s=\"MissisippI\""
   ]
  },
  {
   "cell_type": "code",
   "execution_count": 83,
   "id": "d3f66a43-a733-4aa1-8831-3e8852adfe68",
   "metadata": {},
   "outputs": [
    {
     "data": {
      "text/plain": [
       "'missisippi'"
      ]
     },
     "execution_count": 83,
     "metadata": {},
     "output_type": "execute_result"
    }
   ],
   "source": [
    "s.lower()"
   ]
  },
  {
   "cell_type": "code",
   "execution_count": 84,
   "id": "06e04fa5-4337-4332-9e75-f0d165de1e0e",
   "metadata": {},
   "outputs": [],
   "source": [
    "count=0\n",
    "for i in s:\n",
    "    if(i=='a'or i=='e' or i=='o' or i=='u' or i=='i'):\n",
    "            count+=1    \n"
   ]
  },
  {
   "cell_type": "code",
   "execution_count": 85,
   "id": "919b9984-63a8-42fb-816a-c870ebaaf563",
   "metadata": {},
   "outputs": [
    {
     "name": "stdout",
     "output_type": "stream",
     "text": [
      "the number of vowels in the string are: 3\n"
     ]
    }
   ],
   "source": [
    "print(\"the number of vowels in the string are:\",count)"
   ]
  },
  {
   "cell_type": "code",
   "execution_count": 86,
   "id": "148c6cb3-5e7c-4c1a-b122-086e70e80f52",
   "metadata": {},
   "outputs": [],
   "source": [
    "#14) to find the maximum element in 2D list using for loop\n",
    "\n"
   ]
  },
  {
   "cell_type": "code",
   "execution_count": 89,
   "id": "75ba3eef-6433-4860-aa41-68001251fc49",
   "metadata": {},
   "outputs": [],
   "source": [
    "list1=[34,56,78,12,64]"
   ]
  },
  {
   "cell_type": "code",
   "execution_count": 90,
   "id": "34fcfff7-6061-43db-aeb4-56dd82a570b2",
   "metadata": {},
   "outputs": [],
   "source": [
    "max=list1[0]"
   ]
  },
  {
   "cell_type": "code",
   "execution_count": 92,
   "id": "65dc0be7-15e0-4f34-9fa9-bd0959c5ecd9",
   "metadata": {},
   "outputs": [],
   "source": [
    "for i in list1:\n",
    "    if i > max:\n",
    "        max=i  \n",
    "    "
   ]
  },
  {
   "cell_type": "code",
   "execution_count": 93,
   "id": "37320b3b-326e-4840-ac8c-3c5cddaa83b3",
   "metadata": {},
   "outputs": [
    {
     "name": "stdout",
     "output_type": "stream",
     "text": [
      "the maximum number in the list is: 78\n"
     ]
    }
   ],
   "source": [
    "print(\"the maximum number in the list is:\",max)"
   ]
  },
  {
   "cell_type": "code",
   "execution_count": 94,
   "id": "f61f4415-c67a-4b83-8cea-d3763e4e156a",
   "metadata": {},
   "outputs": [],
   "source": [
    "#15) to remove all occurences of a specific element using for loop\n",
    "\n"
   ]
  },
  {
   "cell_type": "code",
   "execution_count": 8,
   "id": "9091e1ee-cb2b-447b-96f8-3232741d4d44",
   "metadata": {},
   "outputs": [],
   "source": [
    "s=\"this is fus\""
   ]
  },
  {
   "cell_type": "code",
   "execution_count": 9,
   "id": "3add7e78-c0a6-49c9-b326-b80f49ddf078",
   "metadata": {},
   "outputs": [],
   "source": [
    "new_str=\" \"\n",
    "for i in range (0,(len(s))):\n",
    "     if(i!=8):\n",
    "            new_str=new_str+s[i]\n",
    "     \n",
    "    "
   ]
  },
  {
   "cell_type": "code",
   "execution_count": 10,
   "id": "5f37851e-a394-4816-8361-1f0fef6614f5",
   "metadata": {},
   "outputs": [
    {
     "name": "stdout",
     "output_type": "stream",
     "text": [
      "the new string is:  this is us\n"
     ]
    }
   ],
   "source": [
    "print(\"the new string is:\",new_str)"
   ]
  },
  {
   "cell_type": "code",
   "execution_count": 11,
   "id": "ce83d056-5f2f-49bd-9b66-9b19719c749a",
   "metadata": {},
   "outputs": [],
   "source": [
    "#16) to generate a multiplication table of numbers from 1-5 using nested if\n",
    "\n"
   ]
  },
  {
   "cell_type": "code",
   "execution_count": 20,
   "id": "d90db4eb-5bc4-4aab-8b66-c1080dee0d77",
   "metadata": {},
   "outputs": [
    {
     "name": "stdout",
     "output_type": "stream",
     "text": [
      "1 * 1 = 1 \n",
      "\n",
      "1 * 2 = 2 \n",
      "\n",
      "1 * 3 = 3 \n",
      "\n",
      "1 * 4 = 4 \n",
      "\n",
      "1 * 5 = 5 \n",
      "\n",
      "1 * 6 = 6 \n",
      "\n",
      "1 * 7 = 7 \n",
      "\n",
      "1 * 8 = 8 \n",
      "\n",
      "1 * 9 = 9 \n",
      "\n",
      "1 * 10 = 10 \n",
      "\n",
      "2 * 1 = 2 \n",
      "\n",
      "2 * 2 = 4 \n",
      "\n",
      "2 * 3 = 6 \n",
      "\n",
      "2 * 4 = 8 \n",
      "\n",
      "2 * 5 = 10 \n",
      "\n",
      "2 * 6 = 12 \n",
      "\n",
      "2 * 7 = 14 \n",
      "\n",
      "2 * 8 = 16 \n",
      "\n",
      "2 * 9 = 18 \n",
      "\n",
      "2 * 10 = 20 \n",
      "\n",
      "3 * 1 = 3 \n",
      "\n",
      "3 * 2 = 6 \n",
      "\n",
      "3 * 3 = 9 \n",
      "\n",
      "3 * 4 = 12 \n",
      "\n",
      "3 * 5 = 15 \n",
      "\n",
      "3 * 6 = 18 \n",
      "\n",
      "3 * 7 = 21 \n",
      "\n",
      "3 * 8 = 24 \n",
      "\n",
      "3 * 9 = 27 \n",
      "\n",
      "3 * 10 = 30 \n",
      "\n",
      "4 * 1 = 4 \n",
      "\n",
      "4 * 2 = 8 \n",
      "\n",
      "4 * 3 = 12 \n",
      "\n",
      "4 * 4 = 16 \n",
      "\n",
      "4 * 5 = 20 \n",
      "\n",
      "4 * 6 = 24 \n",
      "\n",
      "4 * 7 = 28 \n",
      "\n",
      "4 * 8 = 32 \n",
      "\n",
      "4 * 9 = 36 \n",
      "\n",
      "4 * 10 = 40 \n",
      "\n",
      "5 * 1 = 5 \n",
      "\n",
      "5 * 2 = 10 \n",
      "\n",
      "5 * 3 = 15 \n",
      "\n",
      "5 * 4 = 20 \n",
      "\n",
      "5 * 5 = 25 \n",
      "\n",
      "5 * 6 = 30 \n",
      "\n",
      "5 * 7 = 35 \n",
      "\n",
      "5 * 8 = 40 \n",
      "\n",
      "5 * 9 = 45 \n",
      "\n",
      "5 * 10 = 50 \n",
      "\n"
     ]
    }
   ],
   "source": [
    "num=1\n",
    "for x in range(1,6):\n",
    "    for i in range(1,11):\n",
    "        print(num,'*',i,'=',num*i,'\\n')\n",
    "    num+=1    \n",
    "x+=1        \n",
    "        "
   ]
  },
  {
   "cell_type": "code",
   "execution_count": 21,
   "id": "c9cc8169-d922-4c7e-8dde-1a2594619bb0",
   "metadata": {},
   "outputs": [],
   "source": [
    "#17) to convert temperature from fahrenheit to celsius using for loop\n",
    "\n"
   ]
  },
  {
   "cell_type": "code",
   "execution_count": 41,
   "id": "64c2f849-105e-42d5-899d-b767d28802f6",
   "metadata": {},
   "outputs": [],
   "source": [
    "list1=[100]"
   ]
  },
  {
   "cell_type": "code",
   "execution_count": 42,
   "id": "82b1bd35-6bad-4fb1-bf44-22b24bbe2a1b",
   "metadata": {},
   "outputs": [],
   "source": [
    "temp=0\n",
    "for i in range(0, (len(list1))):\n",
    "    if(i<=len(list1)):\n",
    "        temp=(i*1.8)+32\n",
    "    i+=1\n",
    "               "
   ]
  },
  {
   "cell_type": "code",
   "execution_count": 45,
   "id": "a0a67966-5993-4728-9d78-5641ae52c826",
   "metadata": {},
   "outputs": [
    {
     "name": "stdout",
     "output_type": "stream",
     "text": [
      "the temperature in celsius from 100 fahrenheit is: 32.0\n"
     ]
    }
   ],
   "source": [
    "print(\"the temperature in celsius from 100 fahrenheit is:\",temp)"
   ]
  },
  {
   "cell_type": "code",
   "execution_count": 46,
   "id": "82506cac-67b6-469b-9a97-ddb19832e105",
   "metadata": {},
   "outputs": [],
   "source": [
    "#18) to develop a right angled pattern of '*'\n",
    "\n"
   ]
  },
  {
   "cell_type": "code",
   "execution_count": 52,
   "id": "0079723e-f4f6-4398-9eec-3cb0cda0c83c",
   "metadata": {},
   "outputs": [
    {
     "name": "stdout",
     "output_type": "stream",
     "text": [
      "*  \n",
      "* *  \n",
      "* * *  \n",
      "* * * *  \n",
      "* * * * *  \n",
      "* * * * * *  \n"
     ]
    }
   ],
   "source": [
    "for i in range(0,6):\n",
    "    for x in range(i+1):\n",
    "        print('*',end=' ')\n",
    "    print(' ')   \n"
   ]
  },
  {
   "cell_type": "code",
   "execution_count": 53,
   "id": "65b85aa1-d9a5-45f6-b611-446171bdcb6f",
   "metadata": {},
   "outputs": [],
   "source": [
    "#19) to print common elements from two lists using for loop\n",
    "\n"
   ]
  },
  {
   "cell_type": "code",
   "execution_count": 69,
   "id": "8021c6db-f4c0-40a3-9329-9cdb7e7cb94e",
   "metadata": {},
   "outputs": [],
   "source": [
    "list1=[1,2,3,4,5]"
   ]
  },
  {
   "cell_type": "code",
   "execution_count": 70,
   "id": "fb4703b2-d09b-4dec-8cae-d460428b832c",
   "metadata": {},
   "outputs": [],
   "source": [
    "list2=[3,4,5,6,7]"
   ]
  },
  {
   "cell_type": "code",
   "execution_count": 72,
   "id": "d7f702c9-8151-4307-aa1c-9472f1d729d0",
   "metadata": {},
   "outputs": [],
   "source": [
    "for i in list1[:]:\n",
    "    if i in list2:\n",
    "        list1.remove(i)\n",
    "        list2.remove(i)"
   ]
  },
  {
   "cell_type": "code",
   "execution_count": 73,
   "id": "12d48d06-5cc6-45b5-b0de-dc9784e801a3",
   "metadata": {},
   "outputs": [
    {
     "name": "stdout",
     "output_type": "stream",
     "text": [
      "list1: [1, 2]\n"
     ]
    }
   ],
   "source": [
    "print(\"list1:\",list1)"
   ]
  },
  {
   "cell_type": "code",
   "execution_count": 74,
   "id": "61bb5999-d1ef-443b-8f5f-1ad033ac2404",
   "metadata": {},
   "outputs": [
    {
     "name": "stdout",
     "output_type": "stream",
     "text": [
      "list2: [6, 7]\n"
     ]
    }
   ],
   "source": [
    "print(\"list2:\",list2)"
   ]
  },
  {
   "cell_type": "code",
   "execution_count": 75,
   "id": "8d299407-e08b-49ea-8a23-6243d6f7f00a",
   "metadata": {},
   "outputs": [],
   "source": [
    "#20) write a program to GCD of two numbers using for loop\n",
    "\n"
   ]
  },
  {
   "cell_type": "code",
   "execution_count": 81,
   "id": "80858c50-b2b3-4c83-b6ca-59976b456dde",
   "metadata": {},
   "outputs": [
    {
     "name": "stdin",
     "output_type": "stream",
     "text": [
      " 20\n"
     ]
    }
   ],
   "source": [
    "num1=int(input())"
   ]
  },
  {
   "cell_type": "code",
   "execution_count": 82,
   "id": "eb2cc484-702b-4cca-910f-4ffa5cbb4caa",
   "metadata": {},
   "outputs": [
    {
     "name": "stdin",
     "output_type": "stream",
     "text": [
      " 40\n"
     ]
    }
   ],
   "source": [
    "num2=int(input())"
   ]
  },
  {
   "cell_type": "code",
   "execution_count": 83,
   "id": "9f984dd5-3549-4240-ba0c-75551cb2b5b1",
   "metadata": {},
   "outputs": [],
   "source": [
    "gcd=1\n"
   ]
  },
  {
   "cell_type": "code",
   "execution_count": 84,
   "id": "c910d1fc-bd02-4a4c-a4bb-4f759d3daca0",
   "metadata": {},
   "outputs": [],
   "source": [
    "for i in range(1, min(num1,num2)):\n",
    "    if num%i==0 and num%2==0:\n",
    "        gcd=i"
   ]
  },
  {
   "cell_type": "code",
   "execution_count": 85,
   "id": "d8c0824d-bcbb-41f6-b5a8-2a2f5c8383ac",
   "metadata": {},
   "outputs": [
    {
     "name": "stdout",
     "output_type": "stream",
     "text": [
      "the greatest common factor of 20 and 40 is: 10\n"
     ]
    }
   ],
   "source": [
    "print(\"the greatest common factor of 20 and 40 is:\", gcd)"
   ]
  },
  {
   "cell_type": "code",
   "execution_count": 1,
   "id": "2ac94a8f-75ca-431b-a8d7-a8b4110ea0f7",
   "metadata": {},
   "outputs": [],
   "source": [
    "#21) to find sum of digits in list using list comprehension\n",
    "\n"
   ]
  },
  {
   "cell_type": "code",
   "execution_count": 2,
   "id": "bce3edc9-31ce-4425-a0b3-79a14400b990",
   "metadata": {},
   "outputs": [],
   "source": [
    "list1=[12,13,14,15]"
   ]
  },
  {
   "cell_type": "code",
   "execution_count": 3,
   "id": "34850087-8e9c-45d5-b539-93de796e16d0",
   "metadata": {},
   "outputs": [
    {
     "name": "stdout",
     "output_type": "stream",
     "text": [
      "the original list is: [12, 13, 14, 15]\n"
     ]
    }
   ],
   "source": [
    "print(\"the original list is:\",list1)"
   ]
  },
  {
   "cell_type": "code",
   "execution_count": 6,
   "id": "322113ed-6998-4bd9-9259-98b26a0f945d",
   "metadata": {},
   "outputs": [],
   "source": [
    "res=list(sum(int(digit) for digit in str(num)) for num in list1)"
   ]
  },
  {
   "cell_type": "code",
   "execution_count": 7,
   "id": "ecc198e7-826f-410e-92dc-afb55002ec0f",
   "metadata": {},
   "outputs": [
    {
     "name": "stdout",
     "output_type": "stream",
     "text": [
      " the final list is: [3, 4, 5, 6]\n"
     ]
    }
   ],
   "source": [
    "print(\" the final list is:\",res)"
   ]
  }
 ],
 "metadata": {
  "kernelspec": {
   "display_name": "Python 3 (ipykernel)",
   "language": "python",
   "name": "python3"
  },
  "language_info": {
   "codemirror_mode": {
    "name": "ipython",
    "version": 3
   },
   "file_extension": ".py",
   "mimetype": "text/x-python",
   "name": "python",
   "nbconvert_exporter": "python",
   "pygments_lexer": "ipython3",
   "version": "3.10.6"
  }
 },
 "nbformat": 4,
 "nbformat_minor": 5
}
